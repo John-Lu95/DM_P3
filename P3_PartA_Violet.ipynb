{
 "metadata": {
  "language_info": {
   "codemirror_mode": {
    "name": "ipython",
    "version": 3
   },
   "file_extension": ".py",
   "mimetype": "text/x-python",
   "name": "python",
   "nbconvert_exporter": "python",
   "pygments_lexer": "ipython3",
   "version": "3.7.7-final"
  },
  "orig_nbformat": 2,
  "kernelspec": {
   "name": "python3",
   "display_name": "Python 3.7.7 64-bit",
   "metadata": {
    "interpreter": {
     "hash": "df955ce39d0f31d56d4bb2fe0a613e5326ba60723fd33d8303a3aede8f65715c"
    }
   }
  }
 },
 "nbformat": 4,
 "nbformat_minor": 2,
 "cells": [
  {
   "source": [
    "## Project 3 - Part A"
   ],
   "cell_type": "markdown",
   "metadata": {}
  },
  {
   "source": [
    "### 1. \n",
    "Group Name : Violet\n",
    "Members : Yifu Deng, Jiangqiu Shen, Zhiyuan Lu"
   ],
   "cell_type": "markdown",
   "metadata": {}
  },
  {
   "source": [
    "### 2-a\n",
    "Here we suppose that the root node is {N} and the nodes in two way splits are {N1-1, N1-2} and {N2-1, N2-2, N2-3} repectively."
   ],
   "cell_type": "markdown",
   "metadata": {}
  },
  {
   "cell_type": "code",
   "execution_count": 12,
   "metadata": {},
   "outputs": [
    {
     "output_type": "stream",
     "name": "stdout",
     "text": [
      "GINI Index for each node\nGINI(N) = 1 - (100/210)^2 - (50/210)^2 - (60/210)^2\n= 0.634920634920635\nGINI(N1-1) = 1 - (56/68)^2 - (12/68)^2\n= 0.2906574394463668\nGINI(N1-2) = 1 - (44/142)^2 - (38/142)^2 - (60/142)^2\n= 0.6538385241023607\nGINI(N2-1) = 1 - (62/80)^2 - (18/80)^2\n= 0.3487499999999999\nGINI(N2-2) = 1 - (28/63)^2 - (11/63)^2 - (24/63)^2\n= 0.6268581506676745\nGINI(N2-3) = 1 - (10/67)^2 - (21/67)^2 - (36/67)^2\n= 0.5907774560035643\n\n\n\nThe gain in GINI Index for the first splits 0.12635454468067187\nThe gain in GINI Index for the second splits 0.09111978241892038\n"
     ]
    }
   ],
   "source": [
    "print('GINI Index for each node')\n",
    "print('GINI(N) = 1 - (100/210)^2 - (50/210)^2 - (60/210)^2')\n",
    "gini_n = 1 - (100/210)**2 - (50/210)**2 - (60/210)**2\n",
    "print('=',gini_n)\n",
    "print('GINI(N1-1) = 1 - (56/68)^2 - (12/68)^2')\n",
    "gini_n1_1 = 1 - (56/68)**2 - (12/68)**2\n",
    "print('=',gini_n1_1)\n",
    "print('GINI(N1-2) = 1 - (44/142)^2 - (38/142)^2 - (60/142)^2')\n",
    "gini_n1_2 = 1 - (44/142)**2 - (38/142)**2 - (60/142)**2\n",
    "print('=',gini_n1_2)\n",
    "print('GINI(N2-1) = 1 - (62/80)^2 - (18/80)^2')\n",
    "gini_n2_1 = 1 - (62/80)**2 - (18/80)**2 - 0\n",
    "print('=', gini_n2_1)\n",
    "print('GINI(N2-2) = 1 - (28/63)^2 - (11/63)^2 - (24/63)^2')\n",
    "gini_n2_2 = 1 - (28/63)**2 - (11/63)**2 - (24/63)**2\n",
    "print('=',gini_n2_2)\n",
    "print('GINI(N2-3) = 1 - (10/67)^2 - (21/67)^2 - (36/67)^2')\n",
    "gini_n2_3 = 1 - (10/67)**2 - (21/67)**2 - (36/67)**2\n",
    "print('=',gini_n2_3)\n",
    "print('\\n\\n')\n",
    "gain_1 = gini_n - (2*gini_n1_1+3*gini_n1_2)/(2+3)\n",
    "print('The gain in GINI Index for the first splits',gain_1)\n",
    "gain_2 = gini_n - (2*gini_n2_1+3*gini_n2_2+3*gini_n2_3)/(2+3+3)\n",
    "print('The gain in GINI Index for the second splits',gain_2)"
   ]
  },
  {
   "source": [
    "### 2-b\n",
    "Based on selecting node with largest gain in GINI index, N1-1 and N1-2 are preferred."
   ],
   "cell_type": "markdown",
   "metadata": {}
  },
  {
   "source": [
    "### 2-C"
   ],
   "cell_type": "markdown",
   "metadata": {}
  },
  {
   "cell_type": "code",
   "execution_count": 42,
   "metadata": {},
   "outputs": [
    {
     "output_type": "stream",
     "name": "stdout",
     "text": [
      "H(N) = - {P(Y=A)logP(Y=A) + P(Y=B)logP(Y=B) +P(Y=C)logP(Y=C)}\nEntropy before split is H(N)= 1.5190461643198376\n\nFor the first split 1,\nP(X = N1-1) is  0.3238095238095238   P(X=N1-2) is  0.6761904761904762\nP(Y=A|N1-1) is  0.8235294117647058   P(Y=B|N1-1) is  0.17647058823529413   P(Y=C|N1-1) is  0.0\nP(Y=A|N1-2) is  0.30985915492957744   P(Y=B|N1-2) is  0.2676056338028169   P(Y=C|N1-2) is  0.4225352112676056\nEntropy after split is H(N|S1) = 1.2710974574447609 .  Information gain is H(N)-H(N|S1) = 0.24794870687507675\n\nFor the split 2,\nP(X = N2-1) is  0.38095238095238093   P(X=N2-2) is  0.3   P(X=N2-3) is  0.319047619047619\nP(Y=A|N2-1) is  0.775   P(Y=B|N2-1) is  0.225   P(Y=C|N2-1) is  0.0\nP(Y=A|N2-2) is  0.4444444444444444   P(Y=B|N2-2) is  0.1746031746031746   P(Y=C|N2-2) is  0.38095238095238093\nP(Y=A|N2-3) is  0.14925373134328357   P(Y=B|N2-3) is  0.31343283582089554   P(Y=C|N2-3) is  0.5373134328358209\n1.1917047844910704\nEntropy after split is H(N|S2) = 1.1917047844910704 .  Information gain is H(N)-H(N|S2) = 0.3273413798287672\n"
     ]
    }
   ],
   "source": [
    "import math\n",
    "print('H(N) = - {P(Y=A)logP(Y=A) + P(Y=B)logP(Y=B) +P(Y=C)logP(Y=C)}')\n",
    "h_n = -( (100/210)*math.log2(100/210) + (50/210)*math.log2(50/210) + (60/210)*math.log2(60/210) )\n",
    "print('Entropy before split is H(N)=', h_n)\n",
    "\n",
    "print('\\nFor the first split 1,')\n",
    "p1 = 68/210\n",
    "p2 = 142/210\n",
    "print('P(X = N1-1) is ', p1,'  P(X=N1-2) is ', p2) \n",
    "pA_1 = 56/68\n",
    "pB_1 = 12/68\n",
    "pC_1 = 0/68\n",
    "print('P(Y=A|N1-1) is ',pA_1,'  P(Y=B|N1-1) is ',pB_1,'  P(Y=C|N1-1) is ',pC_1)\n",
    "pA_2 = 44/142\n",
    "pB_2 = 38/142\n",
    "pC_2 = 60/142\n",
    "print('P(Y=A|N1-2) is ',pA_2,'  P(Y=B|N1-2) is ',pB_2,'  P(Y=C|N1-2) is ',pC_2)\n",
    "h_s1 = - ( p1*( pA_1*math.log2(pA_1)+pB_1*math.log2(pB_1)) + p2*( pA_2*math.log2(pA_2)+pB_2*math.log2(pB_2)+pC_2*math.log2(pC_2) ) )\n",
    "print('Entropy after split is H(N|S1) =',h_s1, '.  Information gain is H(N)-H(N|S1) =', h_n-h_s1)\n",
    "\n",
    "print('\\nFor the split 2,')\n",
    "_p1 = 80/210\n",
    "_p2 = 63/210\n",
    "_p3 = 67/210\n",
    "print('P(X = N2-1) is ', _p1,'  P(X=N2-2) is ', _p2, '  P(X=N2-3) is ', _p3)\n",
    "_pA_1 = 62/80\n",
    "_pB_1 = 18/80\n",
    "_pC_1 = 0/80\n",
    "print('P(Y=A|N2-1) is ',_pA_1,'  P(Y=B|N2-1) is ',_pB_1,'  P(Y=C|N2-1) is ',_pC_1)\n",
    "_pA_2 = 28/63\n",
    "_pB_2 = 11/63\n",
    "_pC_2 = 24/63\n",
    "print('P(Y=A|N2-2) is ',_pA_2,'  P(Y=B|N2-2) is ',_pB_2,'  P(Y=C|N2-2) is ',_pC_2)\n",
    "_pA_3 = 10/67\n",
    "_pB_3 = 21/67\n",
    "_pC_3 = 36/67\n",
    "print('P(Y=A|N2-3) is ',_pA_3,'  P(Y=B|N2-3) is ',_pB_3,'  P(Y=C|N2-3) is ',_pC_3)\n",
    "h_s2 =0\n",
    "h_s2 += _p1*(_pA_1 * math.log2(_pA_1) + _pB_1*math.log2(_pB_1) )\n",
    "h_s2 += _p2*( _pA_2*math.log2(_pA_2) + _pB_2*math.log2(_pB_2) + _pC_2*math.log2(_pC_2) ) \n",
    "h_s2 += _p3*( _pA_3*math.log2(_pA_3) + _pB_3*math.log2(_pB_3) + _pC_3*math.log2(_pC_3) )\n",
    "h_s2 = -h_s2\n",
    "print('Entropy after split is H(N|S2) =',h_s2, '.  Information gain is H(N)-H(N|S2) =', h_n - h_s2)\n"
   ]
  },
  {
   "source": [
    "### 2-d\n",
    "Based on selecting variable to maxmize information gain, the second way to split is preferred."
   ],
   "cell_type": "markdown",
   "metadata": {}
  },
  {
   "source": [
    "### 3-a\n",
    "Fruit Data\n",
    "\n",
    "Columns: Type, Weight, Height, Width\n",
    "\n",
    "Type: \n",
    " 1 - apples\n",
    " 2 - oranges\n",
    " 3 - lemons\n",
    "\n",
    "Weight (grams)\n",
    "  0  - if wt <= 179.42 \n",
    "  1  - otherwise\n",
    "\n",
    "Height (cm)\n",
    "  2 - if ht > 8.5\n",
    "  1 - if ht <= 8.5 && > 7.3\n",
    "  0 - otherwise\n",
    "\n",
    "Width (cm)\n",
    "  2 - if width > 7.8\n",
    "  1 - if width <= 7.8 && >7.3\n",
    "  0 - otherwise\n",
    "\n"
   ],
   "cell_type": "markdown",
   "metadata": {}
  },
  {
   "cell_type": "code",
   "execution_count": 77,
   "metadata": {},
   "outputs": [
    {
     "output_type": "stream",
     "name": "stdout",
     "text": [
      "0.5 0.5\n0.8947368421052632 0.10526315789473684 0.631578947368421 0.3684210526315789\n0.3157894736842105 0.6842105263157895 0.0 0.5789473684210527 0.2631578947368421 0.15789473684210525\n0.5789473684210527 0.3684210526315789 0.05263157894736842 0.21052631578947367 0.3684210526315789 0.42105263157894735\n"
     ]
    }
   ],
   "source": [
    "import pandas as pd\n",
    "data = pd.read_csv(\"./data/fruit.txt\",names=['T','Wei','H','Wid'])\n",
    "data = data.loc[data['T']<3]\n",
    "#print(data)\n",
    "appl = data.loc[data['T']==1]\n",
    "orag = data.loc[data['T']==2]\n",
    "p_appl = len(appl)/len(data)\n",
    "p_orag = len(orag)/len(data)\n",
    "print(p_appl,p_orag) \n",
    "\n",
    "p_wt0_a  = len(appl.loc[appl['Wei']==0])/len(appl)\n",
    "p_wt1_a  = len(appl.loc[appl['Wei']==1])/len(appl)\n",
    "p_wt0_o  = len(orag.loc[orag['Wei']==0])/len(orag)\n",
    "p_wt1_o  = len(orag.loc[orag['Wei']==1])/len(orag)\n",
    "print(p_wt0_a,p_wt1_a,p_wt0_o,p_wt1_o)\n",
    "\n",
    "p_h0_a  = len(appl.loc[appl['H']==0])/len(appl)\n",
    "p_h1_a  = len(appl.loc[appl['H']==1])/len(appl)\n",
    "p_h2_a  = len(appl.loc[appl['H']==2])/len(appl)\n",
    "p_h0_o  = len(orag.loc[orag['H']==0])/len(orag)\n",
    "p_h1_o  = len(orag.loc[orag['H']==1])/len(orag)\n",
    "p_h2_o  = len(orag.loc[orag['H']==2])/len(orag)\n",
    "print(p_h0_a,p_h1_a,p_h2_a ,p_h0_o ,p_h1_o ,p_h2_o)\n",
    "\n",
    "p_wid0_a  = len(appl.loc[appl['Wid']==0])/len(appl)\n",
    "p_wid1_a  = len(appl.loc[appl['Wid']==1])/len(appl)\n",
    "p_wid2_a  = len(appl.loc[appl['Wid']==2])/len(appl)\n",
    "p_wid0_o  = len(orag.loc[orag['Wid']==0])/len(orag)\n",
    "p_wid1_o  = len(orag.loc[orag['Wid']==1])/len(orag)\n",
    "p_wid2_o  = len(orag.loc[orag['Wid']==2])/len(orag)\n",
    "print(p_wid0_a,p_wid1_a,p_wid2_a ,p_wid0_o ,p_wid1_o ,p_wid2_o)"
   ]
  },
  {
   "source": [
    ";|Prior|Prob|\n",
    ";| - | - |\n",
    ";|P(apple)| 0.5|\n",
    ";|P(orange)|0.5|\n",
    "\n",
    ";|Cond.| Prob.|\n",
    ";| - | - |\n",
    ";|P(Wt = 0/apple) | 0.8947368421052632 |\n",
    ";|P(Wt = 1/apple) | 0.10526315789473684|\n",
    ";|P(Wt = 0/orange) |  0.631578947368421 |\n",
    ";|P(Wt = 1/orange)| 0.3684210526315789|\n",
    "\n",
    "\n",
    ";|Cond.| Prob.|\n",
    ";| - | - |\n",
    ";|P(Ht = 0/apple) |0.3157894736842105 |\n",
    ";|P(Ht = 1/apple) |  0.6842105263157895 |\n",
    ";|P(Ht = 2/apple) | 0.0 |\n",
    ";|P(Ht = 0/orange) |0.5789473684210527 |\n",
    ";|P(Ht = 1/orange) | 0.2631578947368421 |\n",
    ";|P(Ht = 2/orange) | 0.15789473684210525|\n",
    "\n",
    "   \n",
    "\n",
    "|Cond.| Prob.|\n",
    "| - | - |\n",
    "|P(Wid = 0/apple) | 0.5789473684210527 |\n",
    "|P(Wid = 1/apple)  |  0.3684210526315789 | \n",
    "|P(Wid = 2/apple)  | 0.05263157894736842 |\n",
    "|P(Wid = 0/orange) | 0.21052631578947367 |\n",
    "|P(Wid = 1/orange) | 0.3684210526315789 |\n",
    "|P(Wid = 2/orange)|  0.42105263157894735 |"
   ],
   "cell_type": "markdown",
   "metadata": {}
  },
  {
   "source": [],
   "cell_type": "markdown",
   "metadata": {}
  },
  {
   "cell_type": "code",
   "execution_count": null,
   "metadata": {},
   "outputs": [],
   "source": []
  }
 ]
}